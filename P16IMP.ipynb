{
 "cells": [
  {
   "cell_type": "code",
   "execution_count": 1,
   "id": "bfa70950-de4d-4b0f-889e-278be6e2fa9a",
   "metadata": {},
   "outputs": [
    {
     "name": "stderr",
     "output_type": "stream",
     "text": [
      "24/07/23 16:37:30 WARN SparkSession: Using an existing Spark session; only runtime SQL configurations will take effect.\n"
     ]
    }
   ],
   "source": [
    "from pyspark.sql import SparkSession\n",
    "from pyspark.sql.types import StructType, StructField, StringType, IntegerType\n",
    "from pyspark.sql.functions import concat_ws, col\n",
    "\n",
    "session = SparkSession.builder.appName(\"bgl\").getOrCreate()"
   ]
  },
  {
   "cell_type": "code",
   "execution_count": 2,
   "id": "186c42ec-488c-4484-b081-2b8ef071cdb3",
   "metadata": {},
   "outputs": [],
   "source": [
    "max_columns = 20  # Based on the log file we assume to have a maximum of 20 columns when splitted in space\n",
    "fields = [\n",
    "    StructField(\"Alert_message_flag\", StringType(), True),\n",
    "    StructField(\"Timestamp\", IntegerType(), True),\n",
    "    StructField(\"Date\", StringType(), True),\n",
    "    StructField(\"Node\", StringType(), True),\n",
    "    StructField(\"DateTime\", StringType(), True),\n",
    "    StructField(\"Node2\", StringType(), True),\n",
    "    StructField(\"MessageT\", StringType(), True),\n",
    "    StructField(\"SystemC\", StringType(), True),\n",
    "    StructField(\"Level\", StringType(), True),\n",
    "    StructField(\"Message\", StringType(), True)\n",
    "] + [StructField(f\"ExtraColumn_{i}\", StringType(), True) for i in range(max_columns - 10)] # we create extra columns to put the remaining values of the message\n",
    "\n",
    "bgl_schema = StructType(fields)\n"
   ]
  },
  {
   "cell_type": "code",
   "execution_count": 3,
   "id": "d376da9d-54e5-4847-b2c4-dc996d1395e4",
   "metadata": {},
   "outputs": [],
   "source": [
    "bgl_df = session.read.option(\"delimiter\", \" \").csv(\n",
    "    \"BGL.log\",\n",
    "    schema=bgl_schema,\n",
    "    header=False,  # BGL.log does not have a header\n",
    "    dateFormat=\"dd-MMM-yyyy HH:mm\"\n",
    ")"
   ]
  },
  {
   "cell_type": "code",
   "execution_count": 4,
   "id": "12cdef3c-7a75-42b6-87ee-dcea4bb630e4",
   "metadata": {},
   "outputs": [
    {
     "name": "stderr",
     "output_type": "stream",
     "text": [
      "                                                                                \r"
     ]
    },
    {
     "name": "stdout",
     "output_type": "stream",
     "text": [
      "+------------------+----------+----------+-------------------+--------------------------+-------------------+--------+-------+-----+----------------------------------------+\n",
      "|Alert_message_flag|Timestamp |Date      |Node               |DateTime                  |Node2              |MessageT|SystemC|Level|Message                                 |\n",
      "+------------------+----------+----------+-------------------+--------------------------+-------------------+--------+-------+-----+----------------------------------------+\n",
      "|-                 |1117838570|2005.06.03|R02-M1-N0-C:J12-U11|2005-06-03-15.42.50.363779|R02-M1-N0-C:J12-U11|RAS     |KERNEL |INFO |instruction cache parity error corrected|\n",
      "|-                 |1117838570|2005.06.03|R02-M1-N0-C:J12-U11|2005-06-03-15.42.50.527847|R02-M1-N0-C:J12-U11|RAS     |KERNEL |INFO |instruction cache parity error corrected|\n",
      "|-                 |1117838570|2005.06.03|R02-M1-N0-C:J12-U11|2005-06-03-15.42.50.675872|R02-M1-N0-C:J12-U11|RAS     |KERNEL |INFO |instruction cache parity error corrected|\n",
      "|-                 |1117838570|2005.06.03|R02-M1-N0-C:J12-U11|2005-06-03-15.42.50.823719|R02-M1-N0-C:J12-U11|RAS     |KERNEL |INFO |instruction cache parity error corrected|\n",
      "|-                 |1117838570|2005.06.03|R02-M1-N0-C:J12-U11|2005-06-03-15.42.50.982731|R02-M1-N0-C:J12-U11|RAS     |KERNEL |INFO |instruction cache parity error corrected|\n",
      "|-                 |1117838571|2005.06.03|R02-M1-N0-C:J12-U11|2005-06-03-15.42.51.131467|R02-M1-N0-C:J12-U11|RAS     |KERNEL |INFO |instruction cache parity error corrected|\n",
      "|-                 |1117838571|2005.06.03|R02-M1-N0-C:J12-U11|2005-06-03-15.42.51.293532|R02-M1-N0-C:J12-U11|RAS     |KERNEL |INFO |instruction cache parity error corrected|\n",
      "|-                 |1117838571|2005.06.03|R02-M1-N0-C:J12-U11|2005-06-03-15.42.51.428563|R02-M1-N0-C:J12-U11|RAS     |KERNEL |INFO |instruction cache parity error corrected|\n",
      "|-                 |1117838571|2005.06.03|R02-M1-N0-C:J12-U11|2005-06-03-15.42.51.601412|R02-M1-N0-C:J12-U11|RAS     |KERNEL |INFO |instruction cache parity error corrected|\n",
      "|-                 |1117838571|2005.06.03|R02-M1-N0-C:J12-U11|2005-06-03-15.42.51.749199|R02-M1-N0-C:J12-U11|RAS     |KERNEL |INFO |instruction cache parity error corrected|\n",
      "|-                 |1117838571|2005.06.03|R02-M1-N0-C:J12-U11|2005-06-03-15.42.51.885834|R02-M1-N0-C:J12-U11|RAS     |KERNEL |INFO |instruction cache parity error corrected|\n",
      "|-                 |1117838572|2005.06.03|R02-M1-N0-C:J12-U11|2005-06-03-15.42.52.041388|R02-M1-N0-C:J12-U11|RAS     |KERNEL |INFO |instruction cache parity error corrected|\n",
      "|-                 |1117838572|2005.06.03|R02-M1-N0-C:J12-U11|2005-06-03-15.42.52.199063|R02-M1-N0-C:J12-U11|RAS     |KERNEL |INFO |instruction cache parity error corrected|\n",
      "|-                 |1117838572|2005.06.03|R02-M1-N0-C:J12-U11|2005-06-03-15.42.52.345821|R02-M1-N0-C:J12-U11|RAS     |KERNEL |INFO |instruction cache parity error corrected|\n",
      "|-                 |1117838572|2005.06.03|R02-M1-N0-C:J12-U11|2005-06-03-15.42.52.493353|R02-M1-N0-C:J12-U11|RAS     |KERNEL |INFO |instruction cache parity error corrected|\n",
      "|-                 |1117838572|2005.06.03|R02-M1-N0-C:J12-U11|2005-06-03-15.42.52.638135|R02-M1-N0-C:J12-U11|RAS     |KERNEL |INFO |instruction cache parity error corrected|\n",
      "|-                 |1117838572|2005.06.03|R02-M1-N0-C:J12-U11|2005-06-03-15.42.52.807927|R02-M1-N0-C:J12-U11|RAS     |KERNEL |INFO |instruction cache parity error corrected|\n",
      "|-                 |1117838572|2005.06.03|R02-M1-N0-C:J12-U11|2005-06-03-15.42.52.951717|R02-M1-N0-C:J12-U11|RAS     |KERNEL |INFO |instruction cache parity error corrected|\n",
      "|-                 |1117838573|2005.06.03|R02-M1-N0-C:J12-U11|2005-06-03-15.42.53.125780|R02-M1-N0-C:J12-U11|RAS     |KERNEL |INFO |instruction cache parity error corrected|\n",
      "|-                 |1117838573|2005.06.03|R02-M1-N0-C:J12-U11|2005-06-03-15.42.53.276129|R02-M1-N0-C:J12-U11|RAS     |KERNEL |INFO |instruction cache parity error corrected|\n",
      "+------------------+----------+----------+-------------------+--------------------------+-------------------+--------+-------+-----+----------------------------------------+\n",
      "only showing top 20 rows\n",
      "\n"
     ]
    }
   ],
   "source": [
    "total_col = bgl_df.columns\n",
    "\n",
    "#we split the columns into two\n",
    "first10 = total_col[:10]  # columns to the 9th index\n",
    "additional_col = total_col[10:]  # Columns from 10th index\n",
    "\n",
    "# merge\n",
    "bgl_df = bgl_df.withColumn(\n",
    "    \"Message\",\n",
    "    concat_ws(\" \", col(\"Message\"), *[col(col_name) for col_name in additional_col])\n",
    ")\n",
    "\n",
    "# Select the final columns to keep in the DataFrame\n",
    "final_columns = first10[:9] + [\"Message\"]  # Keep first 9 columns and the concatenated \"Message\" column\n",
    "bgl_df = bgl_df.select(*final_columns)\n",
    "\n",
    "# Show the result\n",
    "bgl_df.show(truncate=False)\n"
   ]
  },
  {
   "cell_type": "code",
   "execution_count": 11,
   "id": "e478d713-46ae-4668-acbe-594055119ed2",
   "metadata": {},
   "outputs": [
    {
     "name": "stderr",
     "output_type": "stream",
     "text": [
      "                                                                                \r"
     ]
    },
    {
     "name": "stdout",
     "output_type": "stream",
     "text": [
      "Number of nodes with the largest number of events: 512\n"
     ]
    }
   ],
   "source": [
    "bgl_df.createOrReplaceTempView(\"bgl_logs\")\n",
    "\n",
    "SQLQuery = \"\"\"\n",
    "WITH EventCounts AS (\n",
    "    SELECT Node, COUNT(*) AS Event_Count\n",
    "    FROM bgl_logs\n",
    "    WHERE Alert_message_flag = 'APPUNAV'\n",
    "    GROUP BY Node\n",
    "),\n",
    "MaxEventCount AS (\n",
    "    SELECT MAX(Event_Count) AS Max_Count\n",
    "    FROM EventCounts\n",
    ")\n",
    "SELECT COUNT(*) AS Node_Count\n",
    "FROM EventCounts\n",
    "JOIN MaxEventCount\n",
    "ON EventCounts.Event_Count = MaxEventCount.Max_Count\n",
    "\"\"\"\n",
    "\n",
    "result = session.sql(SQLQuery).collect()\n",
    "print(\"Number of nodes with the largest number of events:\", result[0][\"Node_Count\"])\n"
   ]
  },
  {
   "cell_type": "code",
   "execution_count": 3,
   "id": "93dda0cc-b55c-4564-9fbb-8246a150962f",
   "metadata": {},
   "outputs": [],
   "source": [
    "session.stop()"
   ]
  },
  {
   "cell_type": "code",
   "execution_count": null,
   "id": "f56006f1-d6cb-4f48-88c5-b2db3f285613",
   "metadata": {},
   "outputs": [],
   "source": []
  }
 ],
 "metadata": {
  "kernelspec": {
   "display_name": "Python 3 (ipykernel)",
   "language": "python",
   "name": "python3"
  },
  "language_info": {
   "codemirror_mode": {
    "name": "ipython",
    "version": 3
   },
   "file_extension": ".py",
   "mimetype": "text/x-python",
   "name": "python",
   "nbconvert_exporter": "python",
   "pygments_lexer": "ipython3",
   "version": "3.10.12"
  }
 },
 "nbformat": 4,
 "nbformat_minor": 5
}
